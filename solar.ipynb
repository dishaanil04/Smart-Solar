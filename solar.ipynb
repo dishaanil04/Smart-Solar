{
  "nbformat": 4,
  "nbformat_minor": 0,
  "metadata": {
    "colab": {
      "provenance": [],
      "include_colab_link": true
    },
    "kernelspec": {
      "name": "python3",
      "display_name": "Python 3"
    },
    "language_info": {
      "name": "python"
    }
  },
  "cells": [
    {
      "cell_type": "markdown",
      "metadata": {
        "id": "view-in-github",
        "colab_type": "text"
      },
      "source": [
        "<a href=\"https://colab.research.google.com/github/dishaanil04/Smart-Solar/blob/main/solar.ipynb\" target=\"_parent\"><img src=\"https://colab.research.google.com/assets/colab-badge.svg\" alt=\"Open In Colab\"/></a>"
      ]
    },
    {
      "cell_type": "code",
      "execution_count": 1,
      "metadata": {
        "colab": {
          "base_uri": "https://localhost:8080/"
        },
        "id": "zLmlgnEmMtEb",
        "outputId": "59e7cabe-ccd8-4a29-bdb0-eaf59beed6b2"
      },
      "outputs": [
        {
          "output_type": "stream",
          "name": "stdout",
          "text": [
            "Requirement already satisfied: numpy in /usr/local/lib/python3.12/dist-packages (2.0.2)\n",
            "Requirement already satisfied: pandas in /usr/local/lib/python3.12/dist-packages (2.2.2)\n",
            "Requirement already satisfied: scikit-learn in /usr/local/lib/python3.12/dist-packages (1.6.1)\n",
            "Requirement already satisfied: matplotlib in /usr/local/lib/python3.12/dist-packages (3.10.0)\n",
            "Requirement already satisfied: joblib in /usr/local/lib/python3.12/dist-packages (1.5.2)\n",
            "Requirement already satisfied: python-dateutil>=2.8.2 in /usr/local/lib/python3.12/dist-packages (from pandas) (2.9.0.post0)\n",
            "Requirement already satisfied: pytz>=2020.1 in /usr/local/lib/python3.12/dist-packages (from pandas) (2025.2)\n",
            "Requirement already satisfied: tzdata>=2022.7 in /usr/local/lib/python3.12/dist-packages (from pandas) (2025.2)\n",
            "Requirement already satisfied: scipy>=1.6.0 in /usr/local/lib/python3.12/dist-packages (from scikit-learn) (1.16.3)\n",
            "Requirement already satisfied: threadpoolctl>=3.1.0 in /usr/local/lib/python3.12/dist-packages (from scikit-learn) (3.6.0)\n",
            "Requirement already satisfied: contourpy>=1.0.1 in /usr/local/lib/python3.12/dist-packages (from matplotlib) (1.3.3)\n",
            "Requirement already satisfied: cycler>=0.10 in /usr/local/lib/python3.12/dist-packages (from matplotlib) (0.12.1)\n",
            "Requirement already satisfied: fonttools>=4.22.0 in /usr/local/lib/python3.12/dist-packages (from matplotlib) (4.60.1)\n",
            "Requirement already satisfied: kiwisolver>=1.3.1 in /usr/local/lib/python3.12/dist-packages (from matplotlib) (1.4.9)\n",
            "Requirement already satisfied: packaging>=20.0 in /usr/local/lib/python3.12/dist-packages (from matplotlib) (25.0)\n",
            "Requirement already satisfied: pillow>=8 in /usr/local/lib/python3.12/dist-packages (from matplotlib) (11.3.0)\n",
            "Requirement already satisfied: pyparsing>=2.3.1 in /usr/local/lib/python3.12/dist-packages (from matplotlib) (3.2.5)\n",
            "Requirement already satisfied: six>=1.5 in /usr/local/lib/python3.12/dist-packages (from python-dateutil>=2.8.2->pandas) (1.17.0)\n"
          ]
        }
      ],
      "source": [
        "!pip install numpy pandas scikit-learn matplotlib joblib"
      ]
    },
    {
      "cell_type": "code",
      "source": [
        "# Install dependencies (Colab) - run this first\n",
        "!pip install --quiet numpy pandas scikit-learn matplotlib joblib\n"
      ],
      "metadata": {
        "id": "gO1KRf_DM_da"
      },
      "execution_count": 2,
      "outputs": []
    },
    {
      "cell_type": "markdown",
      "source": [
        "Imports & setup"
      ],
      "metadata": {
        "id": "dfmiLpGlaoV_"
      }
    },
    {
      "cell_type": "code",
      "source": [
        "# Imports and settings\n",
        "import numpy as np, pandas as pd, matplotlib.pyplot as plt\n",
        "from sklearn.ensemble import IsolationForest, RandomForestClassifier\n",
        "from sklearn.preprocessing import StandardScaler\n",
        "from sklearn.model_selection import train_test_split\n",
        "from sklearn.metrics import classification_report, roc_auc_score\n",
        "import joblib, os\n",
        "from datetime import datetime\n",
        "np.random.seed(42)\n",
        "\n",
        "# Create output folder\n",
        "OUTDIR = 'capstone_outputs'\n",
        "os.makedirs(OUTDIR, exist_ok=True)\n"
      ],
      "metadata": {
        "id": "P7ya7oRLOgIx"
      },
      "execution_count": 3,
      "outputs": []
    },
    {
      "cell_type": "markdown",
      "source": [
        "Generate synthetic dataset"
      ],
      "metadata": {
        "id": "P3pSS3xVaraw"
      }
    },
    {
      "cell_type": "code",
      "source": [
        "timestamps = pd.date_range(datetime(2025,7,1), periods=200, freq='15T')\n",
        "irr = np.clip(np.linspace(0,800,200) + np.random.normal(0,30,200), 0, None)\n",
        "power = irr * 0.15 + np.random.normal(0,10,200)\n",
        "df = pd.DataFrame({\n",
        "    'timestamp': timestamps,\n",
        "    'site_id': 'S1',\n",
        "    'inverter_id': 'S1_INV1',\n",
        "    'irradiance_w_m2': irr,\n",
        "    'pv_power_kw': power\n",
        "})\n",
        "df['performance_ratio'] = df['pv_power_kw'] / (df['irradiance_w_m2'] / 1000 + 1e-6)\n",
        "print('Dataset created — rows:', len(df))\n",
        "df.head()\n"
      ],
      "metadata": {
        "colab": {
          "base_uri": "https://localhost:8080/",
          "height": 258
        },
        "id": "XKwsFB-FOiPk",
        "outputId": "98bbc549-04d6-429f-bbc5-455cd30dccda"
      },
      "execution_count": 4,
      "outputs": [
        {
          "output_type": "stream",
          "name": "stdout",
          "text": [
            "Dataset created — rows: 200\n"
          ]
        },
        {
          "output_type": "stream",
          "name": "stderr",
          "text": [
            "/tmp/ipython-input-1331925502.py:1: FutureWarning: 'T' is deprecated and will be removed in a future version, please use 'min' instead.\n",
            "  timestamps = pd.date_range(datetime(2025,7,1), periods=200, freq='15T')\n"
          ]
        },
        {
          "output_type": "execute_result",
          "data": {
            "text/plain": [
              "            timestamp site_id inverter_id  irradiance_w_m2  pv_power_kw  \\\n",
              "0 2025-07-01 00:00:00      S1     S1_INV1        14.901425     5.813087   \n",
              "1 2025-07-01 00:15:00      S1     S1_INV1         0.000000     5.607845   \n",
              "2 2025-07-01 00:30:00      S1     S1_INV1        27.470857    14.951141   \n",
              "3 2025-07-01 00:45:00      S1     S1_INV1        57.751197    19.200700   \n",
              "4 2025-07-01 01:00:00      S1     S1_INV1         9.055801   -12.418324   \n",
              "\n",
              "   performance_ratio  \n",
              "0       3.900766e+02  \n",
              "1       5.607845e+06  \n",
              "2       5.442348e+02  \n",
              "3       3.324670e+02  \n",
              "4      -1.371160e+03  "
            ],
            "text/html": [
              "\n",
              "  <div id=\"df-c2c755d0-2dcf-4493-8c08-f805858ac90e\" class=\"colab-df-container\">\n",
              "    <div>\n",
              "<style scoped>\n",
              "    .dataframe tbody tr th:only-of-type {\n",
              "        vertical-align: middle;\n",
              "    }\n",
              "\n",
              "    .dataframe tbody tr th {\n",
              "        vertical-align: top;\n",
              "    }\n",
              "\n",
              "    .dataframe thead th {\n",
              "        text-align: right;\n",
              "    }\n",
              "</style>\n",
              "<table border=\"1\" class=\"dataframe\">\n",
              "  <thead>\n",
              "    <tr style=\"text-align: right;\">\n",
              "      <th></th>\n",
              "      <th>timestamp</th>\n",
              "      <th>site_id</th>\n",
              "      <th>inverter_id</th>\n",
              "      <th>irradiance_w_m2</th>\n",
              "      <th>pv_power_kw</th>\n",
              "      <th>performance_ratio</th>\n",
              "    </tr>\n",
              "  </thead>\n",
              "  <tbody>\n",
              "    <tr>\n",
              "      <th>0</th>\n",
              "      <td>2025-07-01 00:00:00</td>\n",
              "      <td>S1</td>\n",
              "      <td>S1_INV1</td>\n",
              "      <td>14.901425</td>\n",
              "      <td>5.813087</td>\n",
              "      <td>3.900766e+02</td>\n",
              "    </tr>\n",
              "    <tr>\n",
              "      <th>1</th>\n",
              "      <td>2025-07-01 00:15:00</td>\n",
              "      <td>S1</td>\n",
              "      <td>S1_INV1</td>\n",
              "      <td>0.000000</td>\n",
              "      <td>5.607845</td>\n",
              "      <td>5.607845e+06</td>\n",
              "    </tr>\n",
              "    <tr>\n",
              "      <th>2</th>\n",
              "      <td>2025-07-01 00:30:00</td>\n",
              "      <td>S1</td>\n",
              "      <td>S1_INV1</td>\n",
              "      <td>27.470857</td>\n",
              "      <td>14.951141</td>\n",
              "      <td>5.442348e+02</td>\n",
              "    </tr>\n",
              "    <tr>\n",
              "      <th>3</th>\n",
              "      <td>2025-07-01 00:45:00</td>\n",
              "      <td>S1</td>\n",
              "      <td>S1_INV1</td>\n",
              "      <td>57.751197</td>\n",
              "      <td>19.200700</td>\n",
              "      <td>3.324670e+02</td>\n",
              "    </tr>\n",
              "    <tr>\n",
              "      <th>4</th>\n",
              "      <td>2025-07-01 01:00:00</td>\n",
              "      <td>S1</td>\n",
              "      <td>S1_INV1</td>\n",
              "      <td>9.055801</td>\n",
              "      <td>-12.418324</td>\n",
              "      <td>-1.371160e+03</td>\n",
              "    </tr>\n",
              "  </tbody>\n",
              "</table>\n",
              "</div>\n",
              "    <div class=\"colab-df-buttons\">\n",
              "\n",
              "  <div class=\"colab-df-container\">\n",
              "    <button class=\"colab-df-convert\" onclick=\"convertToInteractive('df-c2c755d0-2dcf-4493-8c08-f805858ac90e')\"\n",
              "            title=\"Convert this dataframe to an interactive table.\"\n",
              "            style=\"display:none;\">\n",
              "\n",
              "  <svg xmlns=\"http://www.w3.org/2000/svg\" height=\"24px\" viewBox=\"0 -960 960 960\">\n",
              "    <path d=\"M120-120v-720h720v720H120Zm60-500h600v-160H180v160Zm220 220h160v-160H400v160Zm0 220h160v-160H400v160ZM180-400h160v-160H180v160Zm440 0h160v-160H620v160ZM180-180h160v-160H180v160Zm440 0h160v-160H620v160Z\"/>\n",
              "  </svg>\n",
              "    </button>\n",
              "\n",
              "  <style>\n",
              "    .colab-df-container {\n",
              "      display:flex;\n",
              "      gap: 12px;\n",
              "    }\n",
              "\n",
              "    .colab-df-convert {\n",
              "      background-color: #E8F0FE;\n",
              "      border: none;\n",
              "      border-radius: 50%;\n",
              "      cursor: pointer;\n",
              "      display: none;\n",
              "      fill: #1967D2;\n",
              "      height: 32px;\n",
              "      padding: 0 0 0 0;\n",
              "      width: 32px;\n",
              "    }\n",
              "\n",
              "    .colab-df-convert:hover {\n",
              "      background-color: #E2EBFA;\n",
              "      box-shadow: 0px 1px 2px rgba(60, 64, 67, 0.3), 0px 1px 3px 1px rgba(60, 64, 67, 0.15);\n",
              "      fill: #174EA6;\n",
              "    }\n",
              "\n",
              "    .colab-df-buttons div {\n",
              "      margin-bottom: 4px;\n",
              "    }\n",
              "\n",
              "    [theme=dark] .colab-df-convert {\n",
              "      background-color: #3B4455;\n",
              "      fill: #D2E3FC;\n",
              "    }\n",
              "\n",
              "    [theme=dark] .colab-df-convert:hover {\n",
              "      background-color: #434B5C;\n",
              "      box-shadow: 0px 1px 3px 1px rgba(0, 0, 0, 0.15);\n",
              "      filter: drop-shadow(0px 1px 2px rgba(0, 0, 0, 0.3));\n",
              "      fill: #FFFFFF;\n",
              "    }\n",
              "  </style>\n",
              "\n",
              "    <script>\n",
              "      const buttonEl =\n",
              "        document.querySelector('#df-c2c755d0-2dcf-4493-8c08-f805858ac90e button.colab-df-convert');\n",
              "      buttonEl.style.display =\n",
              "        google.colab.kernel.accessAllowed ? 'block' : 'none';\n",
              "\n",
              "      async function convertToInteractive(key) {\n",
              "        const element = document.querySelector('#df-c2c755d0-2dcf-4493-8c08-f805858ac90e');\n",
              "        const dataTable =\n",
              "          await google.colab.kernel.invokeFunction('convertToInteractive',\n",
              "                                                    [key], {});\n",
              "        if (!dataTable) return;\n",
              "\n",
              "        const docLinkHtml = 'Like what you see? Visit the ' +\n",
              "          '<a target=\"_blank\" href=https://colab.research.google.com/notebooks/data_table.ipynb>data table notebook</a>'\n",
              "          + ' to learn more about interactive tables.';\n",
              "        element.innerHTML = '';\n",
              "        dataTable['output_type'] = 'display_data';\n",
              "        await google.colab.output.renderOutput(dataTable, element);\n",
              "        const docLink = document.createElement('div');\n",
              "        docLink.innerHTML = docLinkHtml;\n",
              "        element.appendChild(docLink);\n",
              "      }\n",
              "    </script>\n",
              "  </div>\n",
              "\n",
              "\n",
              "    <div id=\"df-0feaaa3f-fed3-405e-943b-b52a40d8258f\">\n",
              "      <button class=\"colab-df-quickchart\" onclick=\"quickchart('df-0feaaa3f-fed3-405e-943b-b52a40d8258f')\"\n",
              "                title=\"Suggest charts\"\n",
              "                style=\"display:none;\">\n",
              "\n",
              "<svg xmlns=\"http://www.w3.org/2000/svg\" height=\"24px\"viewBox=\"0 0 24 24\"\n",
              "     width=\"24px\">\n",
              "    <g>\n",
              "        <path d=\"M19 3H5c-1.1 0-2 .9-2 2v14c0 1.1.9 2 2 2h14c1.1 0 2-.9 2-2V5c0-1.1-.9-2-2-2zM9 17H7v-7h2v7zm4 0h-2V7h2v10zm4 0h-2v-4h2v4z\"/>\n",
              "    </g>\n",
              "</svg>\n",
              "      </button>\n",
              "\n",
              "<style>\n",
              "  .colab-df-quickchart {\n",
              "      --bg-color: #E8F0FE;\n",
              "      --fill-color: #1967D2;\n",
              "      --hover-bg-color: #E2EBFA;\n",
              "      --hover-fill-color: #174EA6;\n",
              "      --disabled-fill-color: #AAA;\n",
              "      --disabled-bg-color: #DDD;\n",
              "  }\n",
              "\n",
              "  [theme=dark] .colab-df-quickchart {\n",
              "      --bg-color: #3B4455;\n",
              "      --fill-color: #D2E3FC;\n",
              "      --hover-bg-color: #434B5C;\n",
              "      --hover-fill-color: #FFFFFF;\n",
              "      --disabled-bg-color: #3B4455;\n",
              "      --disabled-fill-color: #666;\n",
              "  }\n",
              "\n",
              "  .colab-df-quickchart {\n",
              "    background-color: var(--bg-color);\n",
              "    border: none;\n",
              "    border-radius: 50%;\n",
              "    cursor: pointer;\n",
              "    display: none;\n",
              "    fill: var(--fill-color);\n",
              "    height: 32px;\n",
              "    padding: 0;\n",
              "    width: 32px;\n",
              "  }\n",
              "\n",
              "  .colab-df-quickchart:hover {\n",
              "    background-color: var(--hover-bg-color);\n",
              "    box-shadow: 0 1px 2px rgba(60, 64, 67, 0.3), 0 1px 3px 1px rgba(60, 64, 67, 0.15);\n",
              "    fill: var(--button-hover-fill-color);\n",
              "  }\n",
              "\n",
              "  .colab-df-quickchart-complete:disabled,\n",
              "  .colab-df-quickchart-complete:disabled:hover {\n",
              "    background-color: var(--disabled-bg-color);\n",
              "    fill: var(--disabled-fill-color);\n",
              "    box-shadow: none;\n",
              "  }\n",
              "\n",
              "  .colab-df-spinner {\n",
              "    border: 2px solid var(--fill-color);\n",
              "    border-color: transparent;\n",
              "    border-bottom-color: var(--fill-color);\n",
              "    animation:\n",
              "      spin 1s steps(1) infinite;\n",
              "  }\n",
              "\n",
              "  @keyframes spin {\n",
              "    0% {\n",
              "      border-color: transparent;\n",
              "      border-bottom-color: var(--fill-color);\n",
              "      border-left-color: var(--fill-color);\n",
              "    }\n",
              "    20% {\n",
              "      border-color: transparent;\n",
              "      border-left-color: var(--fill-color);\n",
              "      border-top-color: var(--fill-color);\n",
              "    }\n",
              "    30% {\n",
              "      border-color: transparent;\n",
              "      border-left-color: var(--fill-color);\n",
              "      border-top-color: var(--fill-color);\n",
              "      border-right-color: var(--fill-color);\n",
              "    }\n",
              "    40% {\n",
              "      border-color: transparent;\n",
              "      border-right-color: var(--fill-color);\n",
              "      border-top-color: var(--fill-color);\n",
              "    }\n",
              "    60% {\n",
              "      border-color: transparent;\n",
              "      border-right-color: var(--fill-color);\n",
              "    }\n",
              "    80% {\n",
              "      border-color: transparent;\n",
              "      border-right-color: var(--fill-color);\n",
              "      border-bottom-color: var(--fill-color);\n",
              "    }\n",
              "    90% {\n",
              "      border-color: transparent;\n",
              "      border-bottom-color: var(--fill-color);\n",
              "    }\n",
              "  }\n",
              "</style>\n",
              "\n",
              "      <script>\n",
              "        async function quickchart(key) {\n",
              "          const quickchartButtonEl =\n",
              "            document.querySelector('#' + key + ' button');\n",
              "          quickchartButtonEl.disabled = true;  // To prevent multiple clicks.\n",
              "          quickchartButtonEl.classList.add('colab-df-spinner');\n",
              "          try {\n",
              "            const charts = await google.colab.kernel.invokeFunction(\n",
              "                'suggestCharts', [key], {});\n",
              "          } catch (error) {\n",
              "            console.error('Error during call to suggestCharts:', error);\n",
              "          }\n",
              "          quickchartButtonEl.classList.remove('colab-df-spinner');\n",
              "          quickchartButtonEl.classList.add('colab-df-quickchart-complete');\n",
              "        }\n",
              "        (() => {\n",
              "          let quickchartButtonEl =\n",
              "            document.querySelector('#df-0feaaa3f-fed3-405e-943b-b52a40d8258f button');\n",
              "          quickchartButtonEl.style.display =\n",
              "            google.colab.kernel.accessAllowed ? 'block' : 'none';\n",
              "        })();\n",
              "      </script>\n",
              "    </div>\n",
              "\n",
              "    </div>\n",
              "  </div>\n"
            ],
            "application/vnd.google.colaboratory.intrinsic+json": {
              "type": "dataframe",
              "variable_name": "df",
              "summary": "{\n  \"name\": \"df\",\n  \"rows\": 200,\n  \"fields\": [\n    {\n      \"column\": \"timestamp\",\n      \"properties\": {\n        \"dtype\": \"date\",\n        \"min\": \"2025-07-01 00:00:00\",\n        \"max\": \"2025-07-03 01:45:00\",\n        \"num_unique_values\": 200,\n        \"samples\": [\n          \"2025-07-01 23:45:00\",\n          \"2025-07-01 03:45:00\",\n          \"2025-07-01 07:30:00\"\n        ],\n        \"semantic_type\": \"\",\n        \"description\": \"\"\n      }\n    },\n    {\n      \"column\": \"site_id\",\n      \"properties\": {\n        \"dtype\": \"category\",\n        \"num_unique_values\": 1,\n        \"samples\": [\n          \"S1\"\n        ],\n        \"semantic_type\": \"\",\n        \"description\": \"\"\n      }\n    },\n    {\n      \"column\": \"inverter_id\",\n      \"properties\": {\n        \"dtype\": \"category\",\n        \"num_unique_values\": 1,\n        \"samples\": [\n          \"S1_INV1\"\n        ],\n        \"semantic_type\": \"\",\n        \"description\": \"\"\n      }\n    },\n    {\n      \"column\": \"irradiance_w_m2\",\n      \"properties\": {\n        \"dtype\": \"number\",\n        \"std\": 236.27257554014216,\n        \"min\": 0.0,\n        \"max\": 801.2030649474373,\n        \"num_unique_values\": 199,\n        \"samples\": [\n          318.12023516033327\n        ],\n        \"semantic_type\": \"\",\n        \"description\": \"\"\n      }\n    },\n    {\n      \"column\": \"pv_power_kw\",\n      \"properties\": {\n        \"dtype\": \"number\",\n        \"std\": 36.82139835864078,\n        \"min\": -12.418323564318385,\n        \"max\": 133.02445656765522,\n        \"num_unique_values\": 200,\n        \"samples\": [\n          43.771518941602935\n        ],\n        \"semantic_type\": \"\",\n        \"description\": \"\"\n      }\n    },\n    {\n      \"column\": \"performance_ratio\",\n      \"properties\": {\n        \"dtype\": \"number\",\n        \"std\": 606252.0993029855,\n        \"min\": -1371.1600687646092,\n        \"max\": 6513912.51305798,\n        \"num_unique_values\": 200,\n        \"samples\": [\n          129.49958161262987\n        ],\n        \"semantic_type\": \"\",\n        \"description\": \"\"\n      }\n    }\n  ]\n}"
            }
          },
          "metadata": {},
          "execution_count": 4
        }
      ]
    },
    {
      "cell_type": "markdown",
      "source": [
        "Pre-processing and features"
      ],
      "metadata": {
        "id": "ZYSDG0Ysag0Y"
      }
    },
    {
      "cell_type": "code",
      "source": [
        "# Minimal preprocessing (already clean synthetic data)\n",
        "df = df.sort_values('timestamp').reset_index(drop=True)\n",
        "# Add rolling features\n",
        "df['pv_power_roll_mean_3h'] = df['pv_power_kw'].rolling(window=12, min_periods=1).mean()\n",
        "df['pv_power_roll_std_6h'] = df['pv_power_kw'].rolling(window=24, min_periods=1).std()\n",
        "df['irradiance_roll_mean_3h'] = df['irradiance_w_m2'].rolling(window=12, min_periods=1).mean()\n",
        "df['temp_diff'] = 0.0  # placeholder since module_temp not present in this simple dataset\n",
        "df.to_csv(os.path.join(OUTDIR, 'pv_telemetry_processed.csv'), index=False)\n",
        "print('Preprocessing done — saved processed CSV to', os.path.join(OUTDIR, 'pv_telemetry_processed.csv'))\n"
      ],
      "metadata": {
        "colab": {
          "base_uri": "https://localhost:8080/"
        },
        "id": "e_2ReqJVOmBP",
        "outputId": "98c83abf-af4e-484b-8189-5574ab2c38bb"
      },
      "execution_count": 5,
      "outputs": [
        {
          "output_type": "stream",
          "name": "stdout",
          "text": [
            "Preprocessing done — saved processed CSV to capstone_outputs/pv_telemetry_processed.csv\n"
          ]
        }
      ]
    },
    {
      "cell_type": "markdown",
      "source": [
        "Anomaly detection (Isolation Forest)"
      ],
      "metadata": {
        "id": "q2HqNzIgaySS"
      }
    },
    {
      "cell_type": "code",
      "source": [
        "anom_features = ['irradiance_w_m2', 'pv_power_kw', 'performance_ratio']\n",
        "X = df[anom_features].fillna(0).values\n",
        "scaler = StandardScaler()\n",
        "X_scaled = scaler.fit_transform(X)\n",
        "iso = IsolationForest(n_estimators=100, contamination=0.05, random_state=42)\n",
        "iso.fit(X_scaled)\n",
        "df['anomaly_score'] = -iso.decision_function(X_scaled)\n",
        "df['anomaly_flag'] = (df['anomaly_score'] > np.percentile(df['anomaly_score'], 95)).astype(int)\n",
        "joblib.dump(iso, os.path.join(OUTDIR, 'isolation_forest.joblib'))\n",
        "joblib.dump(scaler, os.path.join(OUTDIR, 'scaler_isolation.joblib'))\n",
        "print('Anomaly detector trained and saved to', OUTDIR)\n"
      ],
      "metadata": {
        "colab": {
          "base_uri": "https://localhost:8080/"
        },
        "id": "MCuqcDysOpOn",
        "outputId": "c1c9a441-0013-46c9-c3e0-3b6cf7860573"
      },
      "execution_count": 6,
      "outputs": [
        {
          "output_type": "stream",
          "name": "stdout",
          "text": [
            "Anomaly detector trained and saved to capstone_outputs\n"
          ]
        }
      ]
    },
    {
      "cell_type": "markdown",
      "source": [
        "Supervised classification (Random Forest)"
      ],
      "metadata": {
        "id": "hgSVlLIia1xP"
      }
    },
    {
      "cell_type": "code",
      "source": [
        "# Create synthetic maintenance labels from anomaly flags\n",
        "df['maintenance_label'] = (df['anomaly_flag'] & (np.random.rand(len(df)) > 0.5)).astype(int)\n",
        "\n",
        "clf_features = anom_features + ['pv_power_roll_mean_3h', 'pv_power_roll_std_6h', 'irradiance_roll_mean_3h']\n",
        "Xc = df[clf_features].fillna(0).values\n",
        "scaler_clf = StandardScaler(); Xc_scaled = scaler_clf.fit_transform(Xc)\n",
        "if df['maintenance_label'].nunique() < 2:\n",
        "    print('Not enough classes for supervised training — skipping classifier training')\n",
        "else:\n",
        "    X_train, X_test, y_train, y_test = train_test_split(Xc_scaled, df['maintenance_label'], test_size=0.3, random_state=42, stratify=df['maintenance_label'])\n",
        "    clf = RandomForestClassifier(n_estimators=100, class_weight='balanced', random_state=42)\n",
        "    clf.fit(X_train, y_train)\n",
        "    y_pred = clf.predict(X_test)\n",
        "    y_proba = clf.predict_proba(X_test)[:,1]\n",
        "    print('Classification report:')\n",
        "    print(classification_report(y_test, y_pred))\n",
        "    try:\n",
        "        print('ROC AUC:', roc_auc_score(y_test, y_proba))\n",
        "    except Exception:\n",
        "        pass\n",
        "    joblib.dump(clf, os.path.join(OUTDIR, 'rf_classifier.joblib'))\n",
        "    joblib.dump(scaler_clf, os.path.join(OUTDIR, 'scaler_clf.joblib'))\n"
      ],
      "metadata": {
        "colab": {
          "base_uri": "https://localhost:8080/"
        },
        "id": "oAC5KzRAOr8-",
        "outputId": "7e0c706d-4fd0-44a3-bc4d-0ed803b03971"
      },
      "execution_count": 7,
      "outputs": [
        {
          "output_type": "stream",
          "name": "stdout",
          "text": [
            "Classification report:\n",
            "              precision    recall  f1-score   support\n",
            "\n",
            "           0       0.98      1.00      0.99        58\n",
            "           1       1.00      0.50      0.67         2\n",
            "\n",
            "    accuracy                           0.98        60\n",
            "   macro avg       0.99      0.75      0.83        60\n",
            "weighted avg       0.98      0.98      0.98        60\n",
            "\n",
            "ROC AUC: 0.9482758620689655\n"
          ]
        }
      ]
    },
    {
      "cell_type": "markdown",
      "source": [
        "Visualizations"
      ],
      "metadata": {
        "id": "bMYJb5eZa5ps"
      }
    },
    {
      "cell_type": "code",
      "source": [
        "plt.figure(figsize=(8,3))\n",
        "plt.hist(df['anomaly_score'], bins=30)\n",
        "plt.title('Anomaly Score Distribution')\n",
        "plt.show()\n",
        "\n",
        "plt.figure(figsize=(10,3))\n",
        "plt.plot(df['timestamp'], df['pv_power_kw'], label='pv_power_kw')\n",
        "plt.scatter(df.loc[df['anomaly_flag']==1,'timestamp'], df.loc[df['anomaly_flag']==1,'pv_power_kw'], c='r', label='anomaly')\n",
        "plt.legend(); plt.title('PV Power with Anomalies'); plt.show()\n",
        "\n",
        "# Save plots\n",
        "plt.figure(); plt.hist(df['anomaly_score'], bins=30); plt.title('Anomaly Score Distribution'); plt.savefig(os.path.join(OUTDIR,'anomaly_score_hist.png')); plt.close()\n",
        "plt.figure(); plt.plot(df['timestamp'], df['pv_power_kw']); plt.scatter(df.loc[df['anomaly_flag']==1,'timestamp'], df.loc[df['anomaly_flag']==1,'pv_power_kw'], c='r'); plt.title('PV Power with Anomalies'); plt.savefig(os.path.join(OUTDIR,'sample_timeseries_anoms.png')); plt.close()\n",
        "print('Plots saved to', OUTDIR)\n"
      ],
      "metadata": {
        "colab": {
          "base_uri": "https://localhost:8080/",
          "height": 628
        },
        "id": "ghFroB52Ousd",
        "outputId": "b5aa754f-8b2d-4e1c-bf04-3a3b9e2908bc"
      },
      "execution_count": 8,
      "outputs": [
        {
          "output_type": "display_data",
          "data": {
            "text/plain": [
              "<Figure size 800x300 with 1 Axes>"
            ],
            "image/png": "[encoded data removed]"
          },
          "metadata": {}
        },
        {
          "output_type": "display_data",
          "data": {
            "text/plain": [
              "<Figure size 1000x300 with 1 Axes>"
            ],
            "image/png": "[encoded data removed]"
          },
          "metadata": {}
        },
        {
          "output_type": "stream",
          "name": "stdout",
          "text": [
            "Plots saved to capstone_outputs\n"
          ]
        }
      ]
    },
    {
      "cell_type": "markdown",
      "source": [
        "Save artifacts & download"
      ],
      "metadata": {
        "id": "NCQbW9eGa-SO"
      }
    },
    {
      "cell_type": "code",
      "source": [
        "# Save processed dataframe\n",
        "df.to_csv(os.path.join(OUTDIR, 'pv_telemetry_processed.csv'), index=False)\n",
        "\n",
        "# Create a zip and provide code to download in Colab\n",
        "import shutil\n",
        "zip_name = 'capstone_outputs.zip'\n",
        "shutil.make_archive('capstone_outputs', 'zip', OUTDIR)\n",
        "print('Created', zip_name)\n",
        "\n",
        "# If running in Colab, the following will download the zip automatically. Uncomment when in Colab.\n",
        "try:\n",
        "    from google.colab import files\n",
        "    files.download(zip_name)\n",
        "except Exception:\n",
        "    print('Not running in Colab or files.download unavailable. You can download', zip_name, 'from the notebook workspace or /content.')"
      ],
      "metadata": {
        "colab": {
          "base_uri": "https://localhost:8080/",
          "height": 34
        },
        "id": "Mr5hs1soOxNW",
        "outputId": "466a864c-b50a-42f3-e6d2-04a9d1001ac9"
      },
      "execution_count": 9,
      "outputs": [
        {
          "output_type": "stream",
          "name": "stdout",
          "text": [
            "Created capstone_outputs.zip\n"
          ]
        },
        {
          "output_type": "display_data",
          "data": {
            "text/plain": [
              "<IPython.core.display.Javascript object>"
            ],
            "application/javascript": [
              "\n",
              "    async function download(id, filename, size) {\n",
              "      if (!google.colab.kernel.accessAllowed) {\n",
              "        return;\n",
              "      }\n",
              "      const div = document.createElement('div');\n",
              "      const label = document.createElement('label');\n",
              "      label.textContent = `Downloading \"${filename}\": `;\n",
              "      div.appendChild(label);\n",
              "      const progress = document.createElement('progress');\n",
              "      progress.max = size;\n",
              "      div.appendChild(progress);\n",
              "      document.body.appendChild(div);\n",
              "\n",
              "      const buffers = [];\n",
              "      let downloaded = 0;\n",
              "\n",
              "      const channel = await google.colab.kernel.comms.open(id);\n",
              "      // Send a message to notify the kernel that we're ready.\n",
              "      channel.send({})\n",
              "\n",
              "      for await (const message of channel.messages) {\n",
              "        // Send a message to notify the kernel that we're ready.\n",
              "        channel.send({})\n",
              "        if (message.buffers) {\n",
              "          for (const buffer of message.buffers) {\n",
              "            buffers.push(buffer);\n",
              "            downloaded += buffer.byteLength;\n",
              "            progress.value = downloaded;\n",
              "          }\n",
              "        }\n",
              "      }\n",
              "      const blob = new Blob(buffers, {type: 'application/binary'});\n",
              "      const a = document.createElement('a');\n",
              "      a.href = window.URL.createObjectURL(blob);\n",
              "      a.download = filename;\n",
              "      div.appendChild(a);\n",
              "      a.click();\n",
              "      div.remove();\n",
              "    }\n",
              "  "
            ]
          },
          "metadata": {}
        },
        {
          "output_type": "display_data",
          "data": {
            "text/plain": [
              "<IPython.core.display.Javascript object>"
            ],
            "application/javascript": [
              "download(\"download_1f2f3cff-d9e9-45af-8731-e2175c49bc70\", \"capstone_outputs.zip\", 342920)"
            ]
          },
          "metadata": {}
        }
      ]
    },
    {
      "cell_type": "code",
      "source": [],
      "metadata": {
        "id": "VojJHzBsO0Wo"
      },
      "execution_count": 9,
      "outputs": []
    }
  ]
}